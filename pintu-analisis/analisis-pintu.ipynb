{
 "cells": [
  {
   "cell_type": "code",
   "execution_count": null,
   "id": "0aec36a5-b199-4579-96ea-7788a202b9de",
   "metadata": {},
   "outputs": [],
   "source": [
    "import pandas\n",
    "filename=\"labels_my-project-name_2025-05-21-10-23-53.csv\"\n",
    "frame_rate = 50  # frame per second"
   ]
  },
  {
   "cell_type": "code",
   "execution_count": null,
   "id": "4d626901-1be3-41f7-9a2b-0ad313fd02d5",
   "metadata": {},
   "outputs": [],
   "source": [
    "import numpy as np\n",
    "import matplotlib.pyplot as plt\n",
    "import matplotlib.pyplot as plt\n",
    "\n",
    "import numpy as np\n",
    "\n",
    "pintu_x = np.zeros(480)\n",
    "pintu_y = np.zeros(480)  # bikin array untuk menampung data pintu\n",
    "pintu_y_delta = np.zeros(480)  # bikin array untuk menampung data pintu\n",
    "\n",
    "df = pandas.read_csv(filename, header=None)\n",
    "# print(df[2])\n",
    "# Iterating over rows\n",
    "#fill default values\n",
    "for x in range(0,480):\n",
    "    pintu_x[x] = 1/frame_rate * x\n",
    "    pintu_y[x] = 197\n",
    "\n",
    "for index, row in df.iterrows():\n",
    "    image_name=row[3]\n",
    "    koordinat = int(row[1])  # koordinat pintu (dalam x)\n",
    "    image_indeks = int (image_name.split(\".\")[0].split(\"_\")[1])\n",
    "    \n",
    "    if koordinat < 1 :\n",
    "        koordinat=197 # default koordinat\n",
    "    pintu_y[image_indeks-1] = koordinat\n",
    "    print(image_name, image_indeks, koordinat)\n",
    "        \n",
    "# hitung delta/derivative\n",
    "for x in range(0,480):\n",
    "    if(x>0):\n",
    "        pintu_y_delta[x] = pintu_y[x] - pintu_y[x-1] \n"
   ]
  },
  {
   "cell_type": "code",
   "execution_count": null,
   "id": "e80405b6-1e19-41ea-99f9-dd8b6b8b360f",
   "metadata": {},
   "outputs": [],
   "source": [
    "plt.figure(figsize=(10,8))\n",
    "plt.subplot(211)\n",
    "plt.plot(pintu_x, pintu_y)\n",
    "plt.subplot(212)\n",
    "plt.plot(pintu_x, pintu_y_delta)\n",
    "plt.savefig(\"pintu-analisis.jpg\")\n",
    "plt.show()\n"
   ]
  }
 ],
 "metadata": {
  "kernelspec": {
   "display_name": "Python 3 (ipykernel)",
   "language": "python",
   "name": "python3"
  },
  "language_info": {
   "codemirror_mode": {
    "name": "ipython",
    "version": 3
   },
   "file_extension": ".py",
   "mimetype": "text/x-python",
   "name": "python",
   "nbconvert_exporter": "python",
   "pygments_lexer": "ipython3",
   "version": "3.13.2"
  }
 },
 "nbformat": 4,
 "nbformat_minor": 5
}
